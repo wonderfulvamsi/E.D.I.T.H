{
 "cells": [
  {
   "cell_type": "markdown",
   "metadata": {},
   "source": [
    "Importing the dependencies :\n",
    "==="
   ]
  },
  {
   "cell_type": "code",
   "execution_count": null,
   "metadata": {},
   "outputs": [],
   "source": [
    "import numpy as np"
   ]
  },
  {
   "cell_type": "code",
   "execution_count": 2,
   "metadata": {},
   "outputs": [],
   "source": [
    "import pandas as pd"
   ]
  },
  {
   "cell_type": "code",
   "execution_count": 3,
   "metadata": {},
   "outputs": [
    {
     "name": "stderr",
     "output_type": "stream",
     "text": [
      "Using TensorFlow backend.\n"
     ]
    }
   ],
   "source": [
    "import keras"
   ]
  },
  {
   "cell_type": "markdown",
   "metadata": {},
   "source": [
    "Reading the lables of the data :\n",
    "===\n"
   ]
  },
  {
   "cell_type": "code",
   "execution_count": 64,
   "metadata": {},
   "outputs": [
    {
     "name": "stdout",
     "output_type": "stream",
     "text": [
      "11\n",
      "21\n",
      "26\n",
      "36\n",
      "51\n",
      "56\n",
      "Are the inconsistent data files.\n"
     ]
    }
   ],
   "source": [
    "y1=pd.read_csv(r'X:\\dbnet-2018\\train\\1\\behavior.csv',header=None,index_col=False)\n",
    "for i in range(2,57):\n",
    "    file=r'X:\\dbnet-2018\\train'+'\\\\'+str(i)+'\\\\'+'behavior.csv'\n",
    "    yy=pd.read_csv(file,header=None)\n",
    "    if len(yy)==120:                \n",
    "        y1=y1.append(yy)\n",
    "    else:\n",
    "        print(i)\n",
    "print(\"Are the inconsistent data files.\")"
   ]
  },
  {
   "cell_type": "code",
   "execution_count": 45,
   "metadata": {},
   "outputs": [
    {
     "data": {
      "text/html": [
       "<div>\n",
       "<style scoped>\n",
       "    .dataframe tbody tr th:only-of-type {\n",
       "        vertical-align: middle;\n",
       "    }\n",
       "\n",
       "    .dataframe tbody tr th {\n",
       "        vertical-align: top;\n",
       "    }\n",
       "\n",
       "    .dataframe thead th {\n",
       "        text-align: right;\n",
       "    }\n",
       "</style>\n",
       "<table border=\"1\" class=\"dataframe\">\n",
       "  <thead>\n",
       "    <tr style=\"text-align: right;\">\n",
       "      <th></th>\n",
       "      <th>0</th>\n",
       "      <th>1</th>\n",
       "    </tr>\n",
       "  </thead>\n",
       "  <tbody>\n",
       "    <tr>\n",
       "      <th>0</th>\n",
       "      <td>0</td>\n",
       "      <td>0</td>\n",
       "    </tr>\n",
       "    <tr>\n",
       "      <th>1</th>\n",
       "      <td>0</td>\n",
       "      <td>2</td>\n",
       "    </tr>\n",
       "    <tr>\n",
       "      <th>2</th>\n",
       "      <td>0</td>\n",
       "      <td>4</td>\n",
       "    </tr>\n",
       "    <tr>\n",
       "      <th>3</th>\n",
       "      <td>-1</td>\n",
       "      <td>0</td>\n",
       "    </tr>\n",
       "    <tr>\n",
       "      <th>4</th>\n",
       "      <td>-5</td>\n",
       "      <td>11</td>\n",
       "    </tr>\n",
       "    <tr>\n",
       "      <th>...</th>\n",
       "      <td>...</td>\n",
       "      <td>...</td>\n",
       "    </tr>\n",
       "    <tr>\n",
       "      <th>115</th>\n",
       "      <td>-5</td>\n",
       "      <td>33</td>\n",
       "    </tr>\n",
       "    <tr>\n",
       "      <th>116</th>\n",
       "      <td>-7</td>\n",
       "      <td>33</td>\n",
       "    </tr>\n",
       "    <tr>\n",
       "      <th>117</th>\n",
       "      <td>-9</td>\n",
       "      <td>33</td>\n",
       "    </tr>\n",
       "    <tr>\n",
       "      <th>118</th>\n",
       "      <td>0</td>\n",
       "      <td>32</td>\n",
       "    </tr>\n",
       "    <tr>\n",
       "      <th>119</th>\n",
       "      <td>10</td>\n",
       "      <td>31</td>\n",
       "    </tr>\n",
       "  </tbody>\n",
       "</table>\n",
       "<p>6000 rows × 2 columns</p>\n",
       "</div>"
      ],
      "text/plain": [
       "      0   1\n",
       "0     0   0\n",
       "1     0   2\n",
       "2     0   4\n",
       "3    -1   0\n",
       "4    -5  11\n",
       "..   ..  ..\n",
       "115  -5  33\n",
       "116  -7  33\n",
       "117  -9  33\n",
       "118   0  32\n",
       "119  10  31\n",
       "\n",
       "[6000 rows x 2 columns]"
      ]
     },
     "execution_count": 45,
     "metadata": {},
     "output_type": "execute_result"
    }
   ],
   "source": [
    "y1"
   ]
  },
  {
   "cell_type": "code",
   "execution_count": 46,
   "metadata": {},
   "outputs": [
    {
     "data": {
      "text/plain": [
       "(6000,)"
      ]
     },
     "execution_count": 46,
     "metadata": {},
     "output_type": "execute_result"
    }
   ],
   "source": [
    "ytrain=np.array(y1[1]) #The second column consists the speeds\n",
    "ytrain.shape"
   ]
  },
  {
   "cell_type": "code",
   "execution_count": 47,
   "metadata": {},
   "outputs": [
    {
     "data": {
      "text/plain": [
       "array([ 0,  2,  4, ..., 33, 32, 31], dtype=int64)"
      ]
     },
     "execution_count": 47,
     "metadata": {},
     "output_type": "execute_result"
    }
   ],
   "source": [
    "ytrain"
   ]
  },
  {
   "cell_type": "markdown",
   "metadata": {},
   "source": [
    "Sample of an image :\n",
    "==="
   ]
  },
  {
   "cell_type": "code",
   "execution_count": 59,
   "metadata": {},
   "outputs": [],
   "source": [
    "import cv2\n",
    "eg=cv2.imread(r'X:\\dbnet-2018\\train\\1\\dvr_66x200\\0.jpg',0)"
   ]
  },
  {
   "cell_type": "code",
   "execution_count": 60,
   "metadata": {},
   "outputs": [
    {
     "data": {
      "text/plain": [
       "(66, 200)"
      ]
     },
     "execution_count": 60,
     "metadata": {},
     "output_type": "execute_result"
    }
   ],
   "source": [
    "eg.shape"
   ]
  },
  {
   "cell_type": "code",
   "execution_count": 61,
   "metadata": {},
   "outputs": [
    {
     "data": {
      "text/plain": [
       "<matplotlib.image.AxesImage at 0x1b96fd152c8>"
      ]
     },
     "execution_count": 61,
     "metadata": {},
     "output_type": "execute_result"
    },
    {
     "data": {
      "image/png": "[encoded data removed]",
      "text/plain": [
       "<Figure size 432x288 with 1 Axes>"
      ]
     },
     "metadata": {
      "needs_background": "light"
     },
     "output_type": "display_data"
    }
   ],
   "source": [
    "import matplotlib.pyplot as plt\n",
    "plt.imshow(eg)"
   ]
  },
  {
   "cell_type": "markdown",
   "metadata": {},
   "source": [
    "Reading the image data :\n",
    "==="
   ]
  },
  {
   "cell_type": "code",
   "execution_count": 62,
   "metadata": {},
   "outputs": [],
   "source": [
    "def Read(file):\n",
    "    r1=cv2.imread(file,0)\n",
    "    for i in range(66):\n",
    "        for j in range(200):\n",
    "            xxx.append(r1[i][j])"
   ]
  },
  {
   "cell_type": "code",
   "execution_count": 63,
   "metadata": {},
   "outputs": [
    {
     "name": "stdout",
     "output_type": "stream",
     "text": [
      "6000\n"
     ]
    }
   ],
   "source": [
    "xxx=[]\n",
    "count=0\n",
    "s=[11,21,26,36,51,56]\n",
    "for i in range(1,57):\n",
    "    for j in range(120):\n",
    "        if i in s:\n",
    "            pass\n",
    "        else:\n",
    "            file=r'X:\\dbnet-2018\\train'+'\\\\'+str(i)+'\\\\'+'dvr_66x200'+'\\\\'+str(j)+'.jpg'\n",
    "            Read(file)\n",
    "            count=count+1\n",
    "print(count)"
   ]
  },
  {
   "cell_type": "markdown",
   "metadata": {},
   "source": [
    "Reshaping the data according ti the keras' input shape configuration :\n",
    "---"
   ]
  },
  {
   "cell_type": "code",
   "execution_count": 14,
   "metadata": {},
   "outputs": [
    {
     "name": "stdout",
     "output_type": "stream",
     "text": [
      "(79200000,)\n",
      "(6000, 66, 200, 1)\n"
     ]
    }
   ],
   "source": [
    "xtrain=np.array(xxx)\n",
    "print(xtrain.shape)\n",
    "xtrain=np.reshape(xtrain,(6000,66,200,1))\n",
    "print(xtrain.shape)"
   ]
  },
  {
   "cell_type": "markdown",
   "metadata": {},
   "source": [
    "Building the model :\n",
    "==="
   ]
  },
  {
   "cell_type": "code",
   "execution_count": 52,
   "metadata": {},
   "outputs": [
    {
     "name": "stdout",
     "output_type": "stream",
     "text": [
      "_________________________________________________________________\n",
      "Layer (type)                 Output Shape              Param #   \n",
      "=================================================================\n",
      "conv2d_5 (Conv2D)            (None, 64, 198, 32)       320       \n",
      "_________________________________________________________________\n",
      "max_pooling2d_5 (MaxPooling2 (None, 32, 99, 32)        0         \n",
      "_________________________________________________________________\n",
      "conv2d_6 (Conv2D)            (None, 30, 97, 126)       36414     \n",
      "_________________________________________________________________\n",
      "max_pooling2d_6 (MaxPooling2 (None, 15, 48, 126)       0         \n",
      "_________________________________________________________________\n",
      "batch_normalization_3 (Batch (None, 15, 48, 126)       504       \n",
      "_________________________________________________________________\n",
      "conv2d_7 (Conv2D)            (None, 15, 48, 64)        72640     \n",
      "_________________________________________________________________\n",
      "max_pooling2d_7 (MaxPooling2 (None, 8, 24, 64)         0         \n",
      "_________________________________________________________________\n",
      "conv2d_8 (Conv2D)            (None, 8, 24, 126)        72702     \n",
      "_________________________________________________________________\n",
      "max_pooling2d_8 (MaxPooling2 (None, 4, 12, 126)        0         \n",
      "_________________________________________________________________\n",
      "batch_normalization_4 (Batch (None, 4, 12, 126)        504       \n",
      "_________________________________________________________________\n",
      "dropout_3 (Dropout)          (None, 4, 12, 126)        0         \n",
      "_________________________________________________________________\n",
      "time_distributed_2 (TimeDist (None, 4, 1512)           0         \n",
      "_________________________________________________________________\n",
      "lstm_2 (LSTM)                (None, 1200)              13022400  \n",
      "_________________________________________________________________\n",
      "dropout_4 (Dropout)          (None, 1200)              0         \n",
      "_________________________________________________________________\n",
      "dense_2 (Dense)              (None, 1)                 1201      \n",
      "_________________________________________________________________\n",
      "activation_2 (Activation)    (None, 1)                 0         \n",
      "=================================================================\n",
      "Total params: 13,206,685\n",
      "Trainable params: 13,206,181\n",
      "Non-trainable params: 504\n",
      "_________________________________________________________________\n"
     ]
    }
   ],
   "source": [
    "from keras.models import Sequential\n",
    "from keras.layers import Dense, Activation, Dropout, Flatten, MaxPooling2D,LSTM,TimeDistributed\n",
    "from keras.layers import Convolution2D as Conv2D\n",
    "from keras.layers.normalization import BatchNormalization\n",
    "\n",
    "model2020 = Sequential()\n",
    "model2020.add(Conv2D(32, kernel_size = (3, 3), activation='relu', input_shape=(66, 200, 1)))\n",
    "model2020.add(MaxPooling2D(pool_size=(2,2)))\n",
    "\n",
    "model2020.add(Conv2D(126, kernel_size=(3,3), activation='relu'))\n",
    "\n",
    "model2020.add(MaxPooling2D(pool_size=(2,2)))\n",
    "model2020.add(BatchNormalization())\n",
    "model2020.add(Conv2D(64, kernel_size=(3,3), activation='relu',padding='same'))\n",
    "model2020.add(MaxPooling2D(pool_size=(2,2),padding='same'))\n",
    "model2020.add(Conv2D(126, kernel_size=(3,3), activation='relu',padding='same'))\n",
    "model2020.add(MaxPooling2D(pool_size=(2,2),padding='same'))\n",
    "model2020.add(BatchNormalization())\n",
    "model2020.add(Dropout(0.2))\n",
    "model2020.add(TimeDistributed(Flatten()))\n",
    "\n",
    "model2020.add(LSTM(1200))\n",
    "model2020.add(Dropout(0.3))\n",
    "\n",
    "# Output Layer\n",
    "model2020.add(Dense(1))\n",
    "model2020.add(Activation('linear'))\n",
    "model2020.summary()\n",
    "\n",
    "\n",
    "# Compile the model\n",
    "model2020.compile(loss='mse', optimizer='adam', metrics=[\"accuracy\"])"
   ]
  },
  {
   "cell_type": "markdown",
   "metadata": {},
   "source": [
    "Reading the validation data :\n",
    "==="
   ]
  },
  {
   "cell_type": "code",
   "execution_count": 7,
   "metadata": {},
   "outputs": [],
   "source": [
    "yval=pd.read_csv(r'X:\\dbnet-2018\\val\\1\\behavior.csv',header=None,index_col=False)\n",
    "for i in range(2,18):\n",
    "    file=r'X:\\dbnet-2018\\val'+'\\\\'+str(i)+'\\\\'+'behavior.csv'\n",
    "    yy=pd.read_csv(file,header=None)\n",
    "    if len(yy)==120:\n",
    "        yval=yval.append(yy)"
   ]
  },
  {
   "cell_type": "code",
   "execution_count": 55,
   "metadata": {},
   "outputs": [
    {
     "name": "stdout",
     "output_type": "stream",
     "text": [
      "1800\n"
     ]
    }
   ],
   "source": [
    "xxx=[]\n",
    "count=0\n",
    "\n",
    "for i in range(1,18):\n",
    "    for j in range(120):\n",
    "        if i==5 or i==10:         #5,10 files are inconsistent\n",
    "            pass\n",
    "        else:\n",
    "            file=r'X:\\dbnet-2018\\val'+'\\\\'+str(i)+'\\\\'+'dvr_66x200'+'\\\\'+str(j)+'.jpg'\n",
    "            Read(file)\n",
    "            count=count+1\n",
    "print(count)"
   ]
  },
  {
   "cell_type": "code",
   "execution_count": 14,
   "metadata": {},
   "outputs": [
    {
     "name": "stdout",
     "output_type": "stream",
     "text": [
      "(23760000,)\n",
      "(1800, 66, 200, 1)\n"
     ]
    }
   ],
   "source": [
    "xval=np.array(xxx)\n",
    "print(xval.shape)\n",
    "xval=np.reshape(xval,(1800,66,200,1))\n",
    "print(xval.shape)"
   ]
  },
  {
   "cell_type": "code",
   "execution_count": 15,
   "metadata": {},
   "outputs": [],
   "source": [
    "yval=pd.read_csv(r'X:\\dbnet-2018\\val\\1\\behavior.csv',header=None,index_col=False)\n",
    "for i in range(2,18):\n",
    "    file=r'X:\\dbnet-2018\\val'+'\\\\'+str(i)+'\\\\'+'behavior.csv'\n",
    "    if i==5 or i==10:\n",
    "        pass\n",
    "    else:\n",
    "        yval=yval.append(pd.read_csv(file,header=None),ignore_index =True)"
   ]
  },
  {
   "cell_type": "code",
   "execution_count": 16,
   "metadata": {},
   "outputs": [],
   "source": [
    "yval=yval[1]"
   ]
  },
  {
   "cell_type": "code",
   "execution_count": 17,
   "metadata": {},
   "outputs": [],
   "source": [
    "yval=pd.DataFrame(yval)"
   ]
  },
  {
   "cell_type": "code",
   "execution_count": 18,
   "metadata": {},
   "outputs": [
    {
     "data": {
      "text/html": [
       "<div>\n",
       "<style scoped>\n",
       "    .dataframe tbody tr th:only-of-type {\n",
       "        vertical-align: middle;\n",
       "    }\n",
       "\n",
       "    .dataframe tbody tr th {\n",
       "        vertical-align: top;\n",
       "    }\n",
       "\n",
       "    .dataframe thead th {\n",
       "        text-align: right;\n",
       "    }\n",
       "</style>\n",
       "<table border=\"1\" class=\"dataframe\">\n",
       "  <thead>\n",
       "    <tr style=\"text-align: right;\">\n",
       "      <th></th>\n",
       "      <th>1</th>\n",
       "    </tr>\n",
       "  </thead>\n",
       "  <tbody>\n",
       "    <tr>\n",
       "      <th>0</th>\n",
       "      <td>0</td>\n",
       "    </tr>\n",
       "    <tr>\n",
       "      <th>1</th>\n",
       "      <td>1</td>\n",
       "    </tr>\n",
       "    <tr>\n",
       "      <th>2</th>\n",
       "      <td>4</td>\n",
       "    </tr>\n",
       "    <tr>\n",
       "      <th>3</th>\n",
       "      <td>7</td>\n",
       "    </tr>\n",
       "    <tr>\n",
       "      <th>4</th>\n",
       "      <td>10</td>\n",
       "    </tr>\n",
       "    <tr>\n",
       "      <th>...</th>\n",
       "      <td>...</td>\n",
       "    </tr>\n",
       "    <tr>\n",
       "      <th>1795</th>\n",
       "      <td>43</td>\n",
       "    </tr>\n",
       "    <tr>\n",
       "      <th>1796</th>\n",
       "      <td>44</td>\n",
       "    </tr>\n",
       "    <tr>\n",
       "      <th>1797</th>\n",
       "      <td>44</td>\n",
       "    </tr>\n",
       "    <tr>\n",
       "      <th>1798</th>\n",
       "      <td>44</td>\n",
       "    </tr>\n",
       "    <tr>\n",
       "      <th>1799</th>\n",
       "      <td>44</td>\n",
       "    </tr>\n",
       "  </tbody>\n",
       "</table>\n",
       "<p>1800 rows × 1 columns</p>\n",
       "</div>"
      ],
      "text/plain": [
       "       1\n",
       "0      0\n",
       "1      1\n",
       "2      4\n",
       "3      7\n",
       "4     10\n",
       "...   ..\n",
       "1795  43\n",
       "1796  44\n",
       "1797  44\n",
       "1798  44\n",
       "1799  44\n",
       "\n",
       "[1800 rows x 1 columns]"
      ]
     },
     "execution_count": 18,
     "metadata": {},
     "output_type": "execute_result"
    }
   ],
   "source": [
    "yval"
   ]
  },
  {
   "cell_type": "markdown",
   "metadata": {},
   "source": [
    "Training the model :\n",
    "==="
   ]
  },
  {
   "cell_type": "code",
   "execution_count": 28,
   "metadata": {
    "scrolled": true
   },
   "outputs": [
    {
     "name": "stdout",
     "output_type": "stream",
     "text": [
      "Epoch 1/30\n",
      "6000/6000 [==============================] - 19s 3ms/step - loss: 0.8331 - acc: 0.4428\n",
      "Epoch 2/30\n",
      "6000/6000 [==============================] - 15s 2ms/step - loss: 0.8438 - acc: 0.4533\n",
      "Epoch 3/30\n",
      "6000/6000 [==============================] - 15s 3ms/step - loss: 0.8610 - acc: 0.4533\n",
      "Epoch 4/30\n",
      "6000/6000 [==============================] - 15s 3ms/step - loss: 0.8639 - acc: 0.4462\n",
      "Epoch 5/30\n",
      "6000/6000 [==============================] - 16s 3ms/step - loss: 0.9220 - acc: 0.4402\n",
      "Epoch 6/30\n",
      "6000/6000 [==============================] - 15s 3ms/step - loss: 0.9077 - acc: 0.4457\n",
      "Epoch 7/30\n",
      "6000/6000 [==============================] - 15s 3ms/step - loss: 0.9036 - acc: 0.4367\n",
      "Epoch 8/30\n",
      "6000/6000 [==============================] - 16s 3ms/step - loss: 0.9052 - acc: 0.4528\n",
      "Epoch 9/30\n",
      "6000/6000 [==============================] - 16s 3ms/step - loss: 0.8827 - acc: 0.4415\n",
      "Epoch 10/30\n",
      "6000/6000 [==============================] - 15s 3ms/step - loss: 0.8857 - acc: 0.4377\n",
      "Epoch 11/30\n",
      "6000/6000 [==============================] - 16s 3ms/step - loss: 0.8496 - acc: 0.4537\n",
      "Epoch 12/30\n",
      "6000/6000 [==============================] - 16s 3ms/step - loss: 0.8452 - acc: 0.4633\n",
      "Epoch 13/30\n",
      "6000/6000 [==============================] - 15s 3ms/step - loss: 0.8661 - acc: 0.4410\n",
      "Epoch 14/30\n",
      "6000/6000 [==============================] - 15s 3ms/step - loss: 0.8632 - acc: 0.4480\n",
      "Epoch 15/30\n",
      "6000/6000 [==============================] - 16s 3ms/step - loss: 0.8405 - acc: 0.4495\n",
      "Epoch 16/30\n",
      "6000/6000 [==============================] - 15s 3ms/step - loss: 0.8263 - acc: 0.4472\n",
      "Epoch 17/30\n",
      "6000/6000 [==============================] - 15s 2ms/step - loss: 0.8156 - acc: 0.4567\n",
      "Epoch 18/30\n",
      "6000/6000 [==============================] - 15s 2ms/step - loss: 0.8519 - acc: 0.4478\n",
      "Epoch 19/30\n",
      "6000/6000 [==============================] - 15s 2ms/step - loss: 0.8332 - acc: 0.4647\n",
      "Epoch 20/30\n",
      "6000/6000 [==============================] - 15s 2ms/step - loss: 0.8355 - acc: 0.4560\n",
      "Epoch 21/30\n",
      "6000/6000 [==============================] - 15s 2ms/step - loss: 0.8312 - acc: 0.4462\n",
      "Epoch 22/30\n",
      "6000/6000 [==============================] - 15s 2ms/step - loss: 0.8677 - acc: 0.4468\n",
      "Epoch 23/30\n",
      "6000/6000 [==============================] - 15s 2ms/step - loss: 0.8108 - acc: 0.4573\n",
      "Epoch 24/30\n",
      "6000/6000 [==============================] - 15s 2ms/step - loss: 0.8322 - acc: 0.4518\n",
      "Epoch 25/30\n",
      "6000/6000 [==============================] - 15s 2ms/step - loss: 0.8721 - acc: 0.4513\n",
      "Epoch 26/30\n",
      "6000/6000 [==============================] - 15s 2ms/step - loss: 0.8865 - acc: 0.4502\n",
      "Epoch 27/30\n",
      "6000/6000 [==============================] - 15s 2ms/step - loss: 0.8817 - acc: 0.4537\n",
      "Epoch 28/30\n",
      "6000/6000 [==============================] - 15s 2ms/step - loss: 0.8785 - acc: 0.4535\n",
      "Epoch 29/30\n",
      "6000/6000 [==============================] - 15s 2ms/step - loss: 0.8710 - acc: 0.4570\n",
      "Epoch 30/30\n",
      "6000/6000 [==============================] - 15s 2ms/step - loss: 0.9161 - acc: 0.4520\n"
     ]
    },
    {
     "data": {
      "text/plain": [
       "<keras.callbacks.History at 0x1fd0c090808>"
      ]
     },
     "execution_count": 28,
     "metadata": {},
     "output_type": "execute_result"
    }
   ],
   "source": [
    "model2020.fit(xtrain,ytrain,epochs=30,batch_size=240)\n",
    "#i had trained the model for 400 epochs before."
   ]
  },
  {
   "cell_type": "markdown",
   "metadata": {},
   "source": [
    ">MSE of the model is only 0.9161.\n",
    "\n",
    ">And the accuracy of the model to predict the optimal speed is 45%"
   ]
  },
  {
   "cell_type": "markdown",
   "metadata": {},
   "source": [
    "Saving the model :\n",
    "==="
   ]
  },
  {
   "cell_type": "code",
   "execution_count": 29,
   "metadata": {},
   "outputs": [
    {
     "data": {
      "text/plain": [
       "['C:\\\\Users\\\\vamsi\\\\Desktop\\\\modelRCNN']"
      ]
     },
     "execution_count": 29,
     "metadata": {},
     "output_type": "execute_result"
    }
   ],
   "source": [
    "joblib.dump(model2020,r'C:\\Users\\vamsi\\Desktop\\modelRCNN')"
   ]
  },
  {
   "cell_type": "markdown",
   "metadata": {},
   "source": [
    "Evaluating the model :\n",
    "==="
   ]
  },
  {
   "cell_type": "code",
   "execution_count": 19,
   "metadata": {},
   "outputs": [],
   "source": [
    "predictions=model2020.predict(xval)"
   ]
  },
  {
   "cell_type": "code",
   "execution_count": 22,
   "metadata": {},
   "outputs": [],
   "source": [
    "predictions=pd.DataFrame(predictions)"
   ]
  },
  {
   "cell_type": "code",
   "execution_count": 23,
   "metadata": {},
   "outputs": [],
   "source": [
    "Eval=pd.concat([yval,predictions],axis=1)"
   ]
  },
  {
   "cell_type": "markdown",
   "metadata": {},
   "source": [
    "There is a very slight difference between the predictions & the original values.\n",
    "\n",
    "However the in most of the sample of traaining data the speed of the car is given at it's initial stage."
   ]
  },
  {
   "cell_type": "code",
   "execution_count": 25,
   "metadata": {},
   "outputs": [
    {
     "data": {
      "text/plain": [
       "1247"
      ]
     },
     "execution_count": 25,
     "metadata": {},
     "output_type": "execute_result"
    }
   ],
   "source": [
    "Eval20=Eval[Eval[1]>=20]\n",
    "len(Eval20)"
   ]
  },
  {
   "cell_type": "code",
   "execution_count": 96,
   "metadata": {},
   "outputs": [
    {
     "data": {
      "text/plain": [
       "<matplotlib.legend.Legend at 0x1fc807439c8>"
      ]
     },
     "execution_count": 96,
     "metadata": {},
     "output_type": "execute_result"
    },
    {
     "data": {
      "image/png": "[encoded data removed]",
      "text/plain": [
       "<Figure size 432x288 with 1 Axes>"
      ]
     },
     "metadata": {
      "needs_background": "light"
     },
     "output_type": "display_data"
    }
   ],
   "source": [
    "plt.plot(Eval[Eval[1]>=20][0],label='Predicted Speed')\n",
    "plt.plot(Eval[Eval[1]>=20][1],label='Original Spedd')\n",
    "plt.title('Speed Comparision Graph')\n",
    "plt.xlabel('Sample')\n",
    "plt.ylabel('Speed')\n",
    "plt.legend()"
   ]
  },
  {
   "cell_type": "markdown",
   "metadata": {},
   "source": [
    "The graph above is the comparision of the original & predicted speeds.\n",
    "---"
   ]
  },
  {
   "cell_type": "code",
   "execution_count": 71,
   "metadata": {},
   "outputs": [
    {
     "data": {
      "text/html": [
       "<div>\n",
       "<style scoped>\n",
       "    .dataframe tbody tr th:only-of-type {\n",
       "        vertical-align: middle;\n",
       "    }\n",
       "\n",
       "    .dataframe tbody tr th {\n",
       "        vertical-align: top;\n",
       "    }\n",
       "\n",
       "    .dataframe thead th {\n",
       "        text-align: right;\n",
       "    }\n",
       "</style>\n",
       "<table border=\"1\" class=\"dataframe\">\n",
       "  <thead>\n",
       "    <tr style=\"text-align: right;\">\n",
       "      <th></th>\n",
       "      <th>1</th>\n",
       "      <th>0</th>\n",
       "    </tr>\n",
       "  </thead>\n",
       "  <tbody>\n",
       "    <tr>\n",
       "      <th>24</th>\n",
       "      <td>25</td>\n",
       "      <td>24.353653</td>\n",
       "    </tr>\n",
       "    <tr>\n",
       "      <th>30</th>\n",
       "      <td>31</td>\n",
       "      <td>27.770037</td>\n",
       "    </tr>\n",
       "    <tr>\n",
       "      <th>31</th>\n",
       "      <td>32</td>\n",
       "      <td>31.540928</td>\n",
       "    </tr>\n",
       "    <tr>\n",
       "      <th>32</th>\n",
       "      <td>33</td>\n",
       "      <td>31.688635</td>\n",
       "    </tr>\n",
       "    <tr>\n",
       "      <th>33</th>\n",
       "      <td>33</td>\n",
       "      <td>30.079603</td>\n",
       "    </tr>\n",
       "    <tr>\n",
       "      <th>...</th>\n",
       "      <td>...</td>\n",
       "      <td>...</td>\n",
       "    </tr>\n",
       "    <tr>\n",
       "      <th>1795</th>\n",
       "      <td>43</td>\n",
       "      <td>27.634314</td>\n",
       "    </tr>\n",
       "    <tr>\n",
       "      <th>1796</th>\n",
       "      <td>44</td>\n",
       "      <td>26.226971</td>\n",
       "    </tr>\n",
       "    <tr>\n",
       "      <th>1797</th>\n",
       "      <td>44</td>\n",
       "      <td>25.937374</td>\n",
       "    </tr>\n",
       "    <tr>\n",
       "      <th>1798</th>\n",
       "      <td>44</td>\n",
       "      <td>35.183208</td>\n",
       "    </tr>\n",
       "    <tr>\n",
       "      <th>1799</th>\n",
       "      <td>44</td>\n",
       "      <td>37.789146</td>\n",
       "    </tr>\n",
       "  </tbody>\n",
       "</table>\n",
       "<p>771 rows × 2 columns</p>\n",
       "</div>"
      ],
      "text/plain": [
       "       1          0\n",
       "24    25  24.353653\n",
       "30    31  27.770037\n",
       "31    32  31.540928\n",
       "32    33  31.688635\n",
       "33    33  30.079603\n",
       "...   ..        ...\n",
       "1795  43  27.634314\n",
       "1796  44  26.226971\n",
       "1797  44  25.937374\n",
       "1798  44  35.183208\n",
       "1799  44  37.789146\n",
       "\n",
       "[771 rows x 2 columns]"
      ]
     },
     "execution_count": 71,
     "metadata": {},
     "output_type": "execute_result"
    }
   ],
   "source": [
    "Eval20[Eval20[1]>Eval20[0]]"
   ]
  },
  {
   "cell_type": "code",
   "execution_count": 95,
   "metadata": {},
   "outputs": [
    {
     "data": {
      "text/plain": [
       "<matplotlib.legend.Legend at 0x1fc8068e988>"
      ]
     },
     "execution_count": 95,
     "metadata": {},
     "output_type": "execute_result"
    },
    {
     "data": {
      "image/png": "[encoded data removed]",
      "text/plain": [
       "<Figure size 432x288 with 1 Axes>"
      ]
     },
     "metadata": {
      "needs_background": "light"
     },
     "output_type": "display_data"
    }
   ],
   "source": [
    "plt.plot(Eval20[Eval20[1]>Eval20[0]][0],label='Predicted Speed')\n",
    "plt.plot(Eval20[Eval20[1]>Eval20[0]][1],label='Original Spedd')\n",
    "plt.title('Speed Comparision Graph')\n",
    "plt.xlabel('Sample')\n",
    "plt.ylabel('Speed')\n",
    "plt.legend()"
   ]
  },
  {
   "cell_type": "markdown",
   "metadata": {},
   "source": [
    ">61.82% of the predictions are less than the original speed.\n"
   ]
  },
  {
   "cell_type": "code",
   "execution_count": 40,
   "metadata": {},
   "outputs": [
    {
     "data": {
      "text/plain": [
       "314"
      ]
     },
     "execution_count": 40,
     "metadata": {},
     "output_type": "execute_result"
    }
   ],
   "source": [
    "len(Eval20[Eval20[1]-Eval20[0]>10])"
   ]
  },
  {
   "cell_type": "code",
   "execution_count": 31,
   "metadata": {},
   "outputs": [
    {
     "data": {
      "text/plain": [
       "<matplotlib.legend.Legend at 0x1b96fa725c8>"
      ]
     },
     "execution_count": 31,
     "metadata": {},
     "output_type": "execute_result"
    },
    {
     "data": {
      "image/png": "[encoded data removed]",
      "text/plain": [
       "<Figure size 432x288 with 1 Axes>"
      ]
     },
     "metadata": {
      "needs_background": "light"
     },
     "output_type": "display_data"
    }
   ],
   "source": [
    "plt.plot(Eval20[Eval20[1]-Eval20[0]<10][0],label='Predicted Speed')\n",
    "plt.plot(Eval20[Eval20[1]-Eval20[0]<10][1],label='Original Spedd')\n",
    "plt.title('Speed Comparision Graph')\n",
    "plt.xlabel('Sample')\n",
    "plt.ylabel('Speed')\n",
    "plt.legend()"
   ]
  },
  {
   "cell_type": "markdown",
   "metadata": {},
   "source": [
    ">Among the 61.82% of the predictions, 64.27% of the them are very close to the original speeds."
   ]
  },
  {
   "cell_type": "code",
   "execution_count": 41,
   "metadata": {},
   "outputs": [
    {
     "data": {
      "text/plain": [
       "106"
      ]
     },
     "execution_count": 41,
     "metadata": {},
     "output_type": "execute_result"
    }
   ],
   "source": [
    "len(Eval20[Eval20[0]-Eval20[1]>10])"
   ]
  },
  {
   "cell_type": "code",
   "execution_count": 102,
   "metadata": {},
   "outputs": [
    {
     "data": {
      "text/plain": [
       "<matplotlib.legend.Legend at 0x1fc80955548>"
      ]
     },
     "execution_count": 102,
     "metadata": {},
     "output_type": "execute_result"
    },
    {
     "data": {
      "image/png": "[encoded data removed]",
      "text/plain": [
       "<Figure size 432x288 with 1 Axes>"
      ]
     },
     "metadata": {
      "needs_background": "light"
     },
     "output_type": "display_data"
    }
   ],
   "source": [
    "plt.plot(Eval20[Eval20[0]-Eval20[1]>10][0],label='Predicted Speed')\n",
    "plt.plot(Eval20[Eval20[0]-Eval20[1]>10][1],label='Original Spedd')\n",
    "plt.title('Speed Comparision Graph')\n",
    "plt.xlabel('Sample')\n",
    "plt.ylabel('Speed')\n",
    "plt.legend()"
   ]
  },
  {
   "cell_type": "markdown",
   "metadata": {},
   "source": [
    ">And in the remaining 38.18 of the prdictions, 77.74% of them are very close to the original speeds."
   ]
  },
  {
   "cell_type": "markdown",
   "metadata": {},
   "source": [
    ">Among the 1247 samples, 314 predictions are very less compared to the original speed & 106 predictions are bigger than the original speed."
   ]
  },
  {
   "cell_type": "code",
   "execution_count": 33,
   "metadata": {},
   "outputs": [
    {
     "name": "stdout",
     "output_type": "stream",
     "text": [
      "827 out of 1247 numer of predictions are correct.\n"
     ]
    }
   ],
   "source": [
    "print(1247-(314+106),'out of 1247 numer of predictions are correct.')"
   ]
  },
  {
   "cell_type": "markdown",
   "metadata": {},
   "source": [
    "Which makes the model 66% accurate.\n",
    "==="
   ]
  }
 ],
 "metadata": {
  "kernelspec": {
   "display_name": "Python 3",
   "language": "python",
   "name": "python3"
  },
  "language_info": {
   "codemirror_mode": {
    "name": "ipython",
    "version": 3
   },
   "file_extension": ".py",
   "mimetype": "text/x-python",
   "name": "python",
   "nbconvert_exporter": "python",
   "pygments_lexer": "ipython3",
   "version": "3.7.4"
  }
 },
 "nbformat": 4,
 "nbformat_minor": 2
 
}
